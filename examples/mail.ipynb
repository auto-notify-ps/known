{
 "cells": [
  {
   "cell_type": "markdown",
   "id": "1db0cd2a",
   "metadata": {},
   "source": [
    "# Module `known.mail`"
   ]
  },
  {
   "cell_type": "markdown",
   "id": "2ac1a0cf",
   "metadata": {},
   "source": [
    "---"
   ]
  },
  {
   "cell_type": "markdown",
   "id": "79021145",
   "metadata": {},
   "source": [
    "### `known.mail.Fancy`\n",
    "\n",
    "A fancy email notifier that uses operators to send mail in one line."
   ]
  },
  {
   "cell_type": "code",
   "execution_count": null,
   "id": "9f77d9d8",
   "metadata": {},
   "outputs": [],
   "source": [
    "from known.mail import Fancy\n",
    "\n",
    "# below are two ways to send the same email\n",
    "\n",
    "# Option 1 - Use normal syntax\n",
    "Fancy.SendMail(\n",
    "    username=\"sender@gmail.com\",        # your gmail address\n",
    "    password=\"???? ???? ???? ????\",     # your app password \n",
    "    Subject=\"Subject of Email\",\n",
    "    To=\"reciver@gmail.com\",\n",
    "    Cc=\"cc-reciver@gmail.com\",\n",
    "    Body=\"Body of the Email\",\n",
    "    Attached=[\"attach.txt\", \"attach.zip\"],\n",
    ")\n",
    "\n",
    "# Option 2 - Use fancy syntax\n",
    "(Fancy() \\\n",
    "    /   \"sender@gmail.com\" \\\n",
    "    //  \"???? ???? ???? ????\" \\\n",
    "    *   \"Subject of Email\" \\\n",
    "    @   \"reciver@gmail.com\" \\\n",
    "    %   \"cc-reciver@gmail.com\" \\\n",
    "    -   \"Body of the Email\" \\\n",
    "    +   \"attach.txt\" + \"attach.zip\" \\\n",
    ")()\n",
    "\n"
   ]
  },
  {
   "cell_type": "markdown",
   "id": "efc345c9",
   "metadata": {},
   "source": [
    "### `known.mail.Mailbox`\n",
    "\n",
    "Email Reader based on IMAP protocol `imap.gmail`"
   ]
  },
  {
   "cell_type": "code",
   "execution_count": null,
   "id": "fa861043",
   "metadata": {},
   "outputs": [],
   "source": [
    "from known.mail import Mailbox\n",
    "\n",
    "# (0) Initialize and Setup\n",
    "mb = Mailbox().Setup(username=\"sender@gmail.com\", password=\"???? ???? ???? ????\")\n",
    "print(mb.__dict__)\n",
    "\n",
    "# --------------------------------------------------------\n",
    "# Repeate Steps (1) to (7)\n",
    "# --------------------------------------------------------\n",
    "\n",
    "# (1) Connect and Log-in\n",
    "status, welcome = mb.Login()\n",
    "print(f'{status=} {welcome=}')\n",
    "\n",
    "# (optional) - List folders\n",
    "status, folders = mb.ListFolders()\n",
    "print(f'{status=} {folders=}')\n",
    "\n",
    "# (2) Open a folder\n",
    "status, success = mb.OpenFolder(folder='INBOX')\n",
    "print(f'{status=} {success=}')\n",
    "\n",
    "# (3) List messages in opened folder\n",
    "status, count = mb.GetMessageList(criteria=['ALL'])\n",
    "print(f'{status=} {count=}')\n",
    "\n",
    "# (4) Get message meta-data of messages\n",
    "success, result = mb.GetMessageInfo()\n",
    "print(f'{success=} {result=}')\n",
    "\n",
    "# (5) Read a single message along with attachements (msg number is denoted by index)\n",
    "msg = mb.GetMessage(\n",
    "    index=0,                # index of message to be read, check the count of messages in mb.messages\n",
    "    save='',                # directory for saving the attachements if any - leave blank to not download attachements\n",
    "    seen=False,             # marks message as \"seen\" after reading it\n",
    "    delete=False,           # marks message as \"deleted\" after reading it (and deletes after folder is closed)\n",
    "    ) # will return a dictionary\n",
    "for k,v in msg.items():print(f'{k}\\t{v}')\n",
    "\n",
    "# (6) Close the folder (this will call imap.expunge and imap.close)\n",
    "success = mb.CloseFolder() # must call if files have been marked for deletion\n",
    "print(f'{success=}')\n",
    "\n",
    "# (7) Finally Logout (this will call imap.logout and imap.shutdown)\n",
    "mb.Logout()\n",
    "\n",
    "# --------------------------------------------------------\n",
    "# we can repeate from step (1), no need to repeate step (0)\n",
    "# --------------------------------------------------------\n",
    "\n"
   ]
  }
 ],
 "metadata": {
  "kernelspec": {
   "display_name": "Python 3",
   "language": "python",
   "name": "python3"
  },
  "language_info": {
   "codemirror_mode": {
    "name": "ipython",
    "version": 3
   },
   "file_extension": ".py",
   "mimetype": "text/x-python",
   "name": "python",
   "nbconvert_exporter": "python",
   "pygments_lexer": "ipython3",
   "version": "3.12.10"
  }
 },
 "nbformat": 4,
 "nbformat_minor": 5
}
